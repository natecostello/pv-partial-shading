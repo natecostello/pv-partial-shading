{
 "cells": [
  {
   "cell_type": "code",
   "execution_count": 1,
   "metadata": {},
   "outputs": [],
   "source": [
    "import pvmismatch\n",
    "from pvmismatch.contrib.gen_coeffs import gen_two_diode\n",
    "\n",
    "from pvlib import pvsystem, location, solarposition\n",
    "import pandas as pd\n",
    "import numpy as np\n",
    "from matplotlib import pyplot as plt\n",
    "import solarpanels"
   ]
  },
  {
   "cell_type": "code",
   "execution_count": 2,
   "metadata": {},
   "outputs": [
    {
     "name": "stdout",
     "output_type": "stream",
     "text": [
      "(2.28618816125344e-11, 1.117455042372326e-06, 0.004267236774264931, 10.01226369025448)\n",
      " message: The iteration is not making good progress, as measured by the \n",
      "            improvement from the last ten iterations.\n",
      " success: False\n",
      "  status: 5\n",
      "     fun: [-1.763e-04 -6.827e-02  3.619e-03 -1.529e-10]\n",
      "       x: [-2.395e+01 -6.903e+02  5.456e-02  2.139e+02]\n",
      "  method: hybr\n",
      "    nfev: 26\n",
      "    njev: 3\n",
      "    fjac: [[-7.388e-01 -3.392e-02 -6.730e-01 -1.108e-11]\n",
      "           [ 6.739e-01 -4.247e-02 -7.376e-01 -6.941e-13]\n",
      "           [ 3.570e-03  9.985e-01 -5.424e-02 -1.809e-08]\n",
      "           [-5.686e-11 -1.806e-08  9.891e-10 -1.000e+00]]\n",
      "       r: [ 1.381e+01  3.097e-12  2.485e+02 -1.763e-07 -1.439e-12\n",
      "            2.725e+02  1.094e-08  5.133e-01  1.165e-07 -1.297e-15]\n",
      "     qtf: [-1.656e-05  9.627e-05 -6.837e-02  1.390e-09]\n"
     ]
    }
   ],
   "source": [
    "# Step one is to create get cell parameters for the rich solar cells\n",
    "rich_solar_12V_params = solarpanels.get_rich_solar_MEGA200_12V()\n",
    "\n",
    "result, message = gen_two_diode(\n",
    "    rich_solar_12V_params['I_sc_ref'],\n",
    "    rich_solar_12V_params['V_oc_ref'],\n",
    "    rich_solar_12V_params['I_mp_ref'],\n",
    "    rich_solar_12V_params['V_mp_ref'],\n",
    "    rich_solar_12V_params['N_s'],\n",
    "    1,\n",
    "    rich_solar_12V_params['temp_ref'])\n",
    "\n",
    "print(result)\n",
    "print(message)"
   ]
  }
 ],
 "metadata": {
  "kernelspec": {
   "display_name": "Python 3",
   "language": "python",
   "name": "python3"
  },
  "language_info": {
   "codemirror_mode": {
    "name": "ipython",
    "version": 3
   },
   "file_extension": ".py",
   "mimetype": "text/x-python",
   "name": "python",
   "nbconvert_exporter": "python",
   "pygments_lexer": "ipython3",
   "version": "3.12.1"
  }
 },
 "nbformat": 4,
 "nbformat_minor": 2
}
