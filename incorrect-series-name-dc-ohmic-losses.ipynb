{
 "cells": [
  {
   "cell_type": "markdown",
   "metadata": {},
   "source": [
    "Minimum code to reproduce a bug where `modelchain.results.dc_ohmic_losses` has value for `name` of `'i_mp'`"
   ]
  },
  {
   "cell_type": "code",
   "execution_count": 27,
   "metadata": {},
   "outputs": [
    {
     "name": "stdout",
     "output_type": "stream",
     "text": [
      "python version= 3.12.1 (main, Dec 19 2023, 16:53:05) [GCC 10.2.1 20210110]\n",
      "pvlib version= 0.10.3\n",
      "pandas version= 2.2.0\n",
      "i_mp\n"
     ]
    }
   ],
   "source": [
    "import pvlib\n",
    "from pvlib import pvsystem, modelchain, location\n",
    "import pandas as pd\n",
    "import sys\n",
    "\n",
    "# Get a module parameters from the CEC database\n",
    "MODULE = pvsystem.retrieve_sam('CECMod')['JA_Solar_JAM5_L__72_200_SI']\n",
    "\n",
    "array_kwargs = dict(module_parameters=MODULE,\n",
    "                    temperature_model_parameters=dict(a=-3.56, b=-0.075, deltaT=3),\n",
    "                    array_losses_parameters=dict(dc_ohmic_percent=0.1))\n",
    "mount = pvsystem.FixedMount(0, 180)\n",
    "array = pvsystem.Array(mount, **array_kwargs)\n",
    "loc = location.Location(40, -80)\n",
    "system = pvsystem.PVSystem(arrays=[array], inverter_parameters=dict(pdc0=3))\n",
    "mc = modelchain.ModelChain(system, loc, \n",
    "                           aoi_model='physical',\n",
    "                           spectral_model='no_loss', \n",
    "                           dc_ohmic_model='dc_ohms_from_percent')\n",
    "times = pd.date_range('2024-01-01 06:00', '2024-01-01 07:00', freq='5min',\n",
    "                      tz='Etc/GMT+5')\n",
    "\n",
    "weather = loc.get_clearsky(times)\n",
    "mc.run_model(weather)\n",
    "\n",
    "print(mc.results.dc_ohmic_losses.name)\n"
   ]
  },
  {
   "cell_type": "code",
   "execution_count": 28,
   "metadata": {},
   "outputs": [
    {
     "name": "stdout",
     "output_type": "stream",
     "text": [
      "python version= 3.12.1 (main, Dec 19 2023, 16:53:05) [GCC 10.2.1 20210110]\n",
      "pvlib version= 0.10.3\n",
      "pandas version= 2.2.0\n"
     ]
    }
   ],
   "source": [
    "# Version information\n",
    "print('python version=',sys.version)\n",
    "print('pvlib version=',pvlib.__version__)\n",
    "print('pandas version=',pd.__version__)"
   ]
  }
 ],
 "metadata": {
  "kernelspec": {
   "display_name": "Python 3",
   "language": "python",
   "name": "python3"
  },
  "language_info": {
   "codemirror_mode": {
    "name": "ipython",
    "version": 3
   },
   "file_extension": ".py",
   "mimetype": "text/x-python",
   "name": "python",
   "nbconvert_exporter": "python",
   "pygments_lexer": "ipython3",
   "version": "3.12.1"
  }
 },
 "nbformat": 4,
 "nbformat_minor": 2
}
