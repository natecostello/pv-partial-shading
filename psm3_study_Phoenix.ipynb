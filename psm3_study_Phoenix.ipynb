{
 "cells": [
  {
   "cell_type": "markdown",
   "metadata": {},
   "source": [
    "# Setup Imports"
   ]
  },
  {
   "cell_type": "code",
   "execution_count": 141,
   "metadata": {},
   "outputs": [],
   "source": [
    "# Setup\n",
    "import pvlib\n",
    "from pvlib.pvsystem import PVSystem, Array, FixedMount\n",
    "from pvlib.location import Location\n",
    "from pvlib.modelchain import ModelChain\n",
    "import pandas as pd\n",
    "import matplotlib.pyplot as plt\n",
    "import numpy as np\n",
    "from userdefinedmodels import *\n",
    "import solarpanels"
   ]
  },
  {
   "cell_type": "markdown",
   "metadata": {},
   "source": [
    "# Setup Locations and Weather"
   ]
  },
  {
   "cell_type": "code",
   "execution_count": 142,
   "metadata": {},
   "outputs": [],
   "source": [
    "# setup locations\n",
    "locations = {}\n",
    "\n",
    "locations['Phoenix'] = (33.5, -112.0, 'Phoenix', 340, 'Etc/GMT+7')\n"
   ]
  },
  {
   "cell_type": "code",
   "execution_count": 143,
   "metadata": {},
   "outputs": [],
   "source": [
    "# read files and setup weather\n",
    "weathers = {}\n",
    "for location in locations:\n",
    "    names = '2022'\n",
    "    filename = 'psm3_' + location + '_' + names + '.csv'\n",
    "    weathers[location] = pd.read_csv(filename, index_col=0, parse_dates=True)\n"
   ]
  },
  {
   "cell_type": "markdown",
   "metadata": {},
   "source": [
    "# Setup Systems"
   ]
  },
  {
   "cell_type": "markdown",
   "metadata": {},
   "source": [
    "## Module Parameters\n",
    "\n",
    "This study will use a Rich Solar 200W 12V Panel"
   ]
  },
  {
   "cell_type": "code",
   "execution_count": 144,
   "metadata": {},
   "outputs": [],
   "source": [
    "rich_solar_12V_params = solarpanels.get_rich_solar_MEGA200_12V()"
   ]
  },
  {
   "cell_type": "markdown",
   "metadata": {},
   "source": [
    "## Temperature Parameters"
   ]
  },
  {
   "cell_type": "code",
   "execution_count": 145,
   "metadata": {},
   "outputs": [],
   "source": [
    "temperature_model_parameters = pvlib.temperature.TEMPERATURE_MODEL_PARAMETERS['sapm']['open_rack_glass_glass']"
   ]
  },
  {
   "cell_type": "markdown",
   "metadata": {},
   "source": [
    "## Inverter (MPPT) Parameters  "
   ]
  },
  {
   "cell_type": "code",
   "execution_count": 146,
   "metadata": {},
   "outputs": [],
   "source": [
    "# We'll start with no wire losses and perfect MPPT efficiency\n",
    "#r_batt_wire = getWireResistance('8AWG', 5)\n",
    "#r_pv_wire = getWireResistance('8AWG', 10)\n",
    "r_batt_wire = 0\n",
    "r_pv_wire = 0\n",
    "mppt_eff = 1.0\n",
    "\n",
    "\n",
    "mppt_parameters = {\n",
    "    'v_batt': 14.2,\n",
    "    'v_start_delta': 5.0,\n",
    "    'v_continue_delta': 1.0,\n",
    "    'r_batt_wire': r_batt_wire,\n",
    "    'r_pv_wire': r_pv_wire,\n",
    "    'mppt_eff': mppt_eff\n",
    "}"
   ]
  },
  {
   "cell_type": "markdown",
   "metadata": {},
   "source": [
    "## System Configuration"
   ]
  },
  {
   "cell_type": "code",
   "execution_count": 147,
   "metadata": {},
   "outputs": [],
   "source": [
    "\n",
    "mount = FixedMount(\n",
    "    surface_tilt=0,\n",
    "    surface_azimuth=180,\n",
    "    )\n",
    "arraySeries = Array(\n",
    "    mount=mount,\n",
    "    module_parameters=rich_solar_12V_params,\n",
    "    temperature_model_parameters=temperature_model_parameters,\n",
    "    strings=1,\n",
    "    modules_per_string=2,\n",
    "    )\n",
    "\n",
    "arrayParallel = Array(\n",
    "    mount=mount,\n",
    "    module_parameters=rich_solar_12V_params,\n",
    "    temperature_model_parameters=temperature_model_parameters,\n",
    "    strings=2,\n",
    "    modules_per_string=1,\n",
    "    )\n",
    "\n",
    "\n",
    "\n",
    "systemSeries = PVSystem(arrays=[arraySeries], \n",
    "                  inverter_parameters=mppt_parameters)\n",
    "\n",
    "systemParallel = PVSystem(arrays=[arrayParallel],\n",
    "                    inverter_parameters=mppt_parameters)\n"
   ]
  },
  {
   "cell_type": "code",
   "execution_count": 148,
   "metadata": {},
   "outputs": [],
   "source": [
    "\n",
    "\n",
    "#mcSeries.run_model(weather)\n",
    "#mcParallel.run_model(weather)\n"
   ]
  },
  {
   "cell_type": "markdown",
   "metadata": {},
   "source": [
    "# Iterate over Locations"
   ]
  },
  {
   "cell_type": "code",
   "execution_count": 149,
   "metadata": {},
   "outputs": [
    {
     "name": "stdout",
     "output_type": "stream",
     "text": [
      "ModelChain: \n",
      "  name: None\n",
      "  clearsky_model: ineichen\n",
      "  transposition_model: haydavies\n",
      "  solar_position_method: nrel_numpy\n",
      "  airmass_model: kastenyoung1989\n",
      "  dc_model: desoto\n",
      "  ac_model: functools.partial(<function mppt at 0xffff38b54900>, ModelChain: \n",
      "  name: None\n",
      "  clearsky_model: ineichen\n",
      "  transposition_model: haydavies\n",
      "  solar_position_method: nrel_numpy\n",
      "  airmass_model: kastenyoung1989\n",
      "  dc_model: desoto\n",
      "  ac_model: ...\n",
      "  aoi_model: physical_aoi_loss\n",
      "  spectral_model: no_spectral_loss\n",
      "  temperature_model: sapm_temp\n",
      "  losses_model: no_extra_losses)\n",
      "  aoi_model: physical_aoi_loss\n",
      "  spectral_model: no_spectral_loss\n",
      "  temperature_model: sapm_temp\n",
      "  losses_model: no_extra_losses\n",
      "Phoenix Series Energy [W-hr]:  826441.94  Parallel Reduction [%]:  0.0\n"
     ]
    }
   ],
   "source": [
    "enable_plots = True\n",
    "enable_daily_delta = True\n",
    "# Iterate over locations\n",
    "for location in locations:\n",
    "    latitude, longitude, name, altitude, timezone = locations[location]\n",
    "\n",
    "    # setup pvlib location\n",
    "    pvlocation = Location(\n",
    "        latitude,\n",
    "        longitude,\n",
    "        name=name,\n",
    "        altitude=altitude,\n",
    "        tz=timezone,\n",
    "        )\n",
    "    \n",
    "    # setup weather\n",
    "    weather = weathers[location]\n",
    "\n",
    "    # setup model chains\n",
    "    mcSeries = ModelChain(systemSeries, \n",
    "                pvlocation, \n",
    "                aoi_model=\"physical\", \n",
    "                spectral_model=\"no_loss\", \n",
    "                dc_model=\"desoto\",\n",
    "                ac_model=mppt,\n",
    "                dc_ohmic_model=pv_wire_loss\n",
    "                )\n",
    "\n",
    "    mcParallel = ModelChain(systemParallel, \n",
    "                pvlocation, \n",
    "                aoi_model=\"physical\", \n",
    "                spectral_model=\"no_loss\", \n",
    "                dc_model=\"desoto\",\n",
    "                ac_model=mppt,\n",
    "                dc_ohmic_model=pv_wire_loss\n",
    "                )\n",
    "\n",
    "    # run model chains\n",
    "    mcSeries.run_model(weather)\n",
    "    mcParallel.run_model(weather)\n",
    "    print(mcParallel)\n",
    "    # calculate total energy produced\n",
    "    year_series_energy = mcSeries.results.ac.sum() * 5/60\n",
    "    year_parallel_energy = mcParallel.results.ac.sum() * 5/60\n",
    "    # calculate reduction for parallel\n",
    "    year_delta = year_series_energy - year_parallel_energy\n",
    "    year_parallel_reduction = year_delta/year_series_energy * 100\n",
    "    # print results\n",
    "    print(location, 'Series Energy [W-hr]: ', round(year_series_energy, 2), ' Parallel Reduction [%]: ', round(year_parallel_reduction, 2))\n",
    "    \n",
    "    # Create a date range for January\n",
    "    #dates = pd.date_range(start='2022-01-01', end='2022-01-31', tz=location.tz)\n",
    "    # Create a date range for July\n",
    "    dates = pd.date_range(start='2022-04-08', end='2022-04-08', tz=pvlocation.tz)\n",
    "    \n",
    "    # Iterate over the dates\n",
    "    for date in dates:\n",
    "        # Localize the date to the specified timezone\n",
    "        \n",
    "        # Create a DatetimeIndex from the localized_date\n",
    "        date_index = pd.DatetimeIndex([date])\n",
    "        \n",
    "        # Get the sunrise and sunset times for the date\n",
    "        sun_times = pvlocation.get_sun_rise_set_transit(date_index)\n",
    "        \n",
    "        # Extract the sunrise and sunset times and convert them to timestamps\n",
    "        # sunrise = pd.Timestamp(sun_times['sunrise'].values[0], tz=location.tz)\n",
    "        # sunset = pd.Timestamp(sun_times['sunset'].values[0], tz=location.tz)\n",
    "        sunrise = sun_times['sunrise'].iloc[0]\n",
    "        sunset = sun_times['sunset'].iloc[0]\n",
    "\n",
    "        # add six hours to sunrise\n",
    "        sunrise = sunrise + pd.Timedelta('6h')\n",
    "        # subtract six hours from sunset\n",
    "        sunset = sunset - pd.Timedelta('6h')\n",
    "    \n",
    "        \n",
    "        # Slice DataFrames to the range from sunrise to sunset\n",
    "        weather_slice = weather.loc[sunrise:sunset]\n",
    "        series_dc_slice = mcSeries.results.dc.loc[sunrise:sunset]\n",
    "        parallel_dc_slice = mcParallel.results.dc.loc[sunrise:sunset]\n",
    "        series_ac_slice = mcSeries.results.ac.loc[sunrise:sunset]\n",
    "        parallel_ac_slice = mcParallel.results.ac.loc[sunrise:sunset]\n",
    "        parallel_cell_slice = mcParallel.results.cell_temperature.loc[sunrise:sunset]\n",
    "        parallel_dc_ohmic_slice = mcParallel.results.dc_ohmic_losses.loc[sunrise:sunset]\n",
    "        series_geff_slice = mcSeries.results.effective_irradiance.loc[sunrise:sunset]\n",
    "        parallel_diode_slice = mcParallel.results.diode_params.loc[sunrise:sunset]\n",
    "        parallel_weather_slice = mcParallel.results.weather.loc[sunrise:sunset]\n",
    "        parallel_total_irrad_slice = mcParallel.results.total_irrad.loc[sunrise:sunset]\n",
    "        parallel_effective_irradiance_slice = mcParallel.results.effective_irradiance.loc[sunrise:sunset]\n",
    "\n",
    "\n",
    "        # Find the max cell temperature for parallel cases\n",
    "        # within the slice period\n",
    "        max_cell_temp = parallel_cell_slice.max()\n",
    "\n",
    "        # # Create a plot of the column of the sliced psm3_weatherFrames\n",
    "        # fig, ax = plt.subplots()\n",
    "        # weather_slice['ghi'].plot(ax=ax, label='ghi')\n",
    "        # weather_slice['dni'].plot(ax=ax, label='dni')\n",
    "        # weather_slice['dhi'].plot(ax=ax, label='dhi')\n",
    "        # # Add a title to the plot\n",
    "        # ax.set_title(date.strftime('%Y-%m-%d'))\n",
    "        # # Add a legend to the plot\n",
    "        # ax.legend()\n",
    "        # # Show the plot\n",
    "        # plt.show()\n",
    "\n",
    "        # Calculate the total energy produced by the series and parallel systems\n",
    "        series_energy = series_ac_slice.sum() * 5/60\n",
    "        parallel_energy = parallel_ac_slice.sum() * 5/60\n",
    "        delta = series_energy - parallel_energy\n",
    "\n",
    "        if delta/series_energy > 0.0001 and enable_daily_delta:\n",
    "            print (location, ' ', date.strftime('%Y-%m-%d'),' delta [W-hr]: ', delta, ' max cell temp [C]:' , max_cell_temp)\n",
    "        if delta/series_energy > 0.0001 and enable_plots:\n",
    "            #plot\n",
    "            # Create a single figure with three subplots in a column\n",
    "            fig, axs = plt.subplots(3, 1, figsize=(10, 15))\n",
    "            \n",
    "            # Create a plot of the MPPT Output\n",
    "            series_ac_slice.plot(ax=axs[0], label='Series MPPT Output')\n",
    "            parallel_ac_slice.plot(ax=axs[0], label='Parallel MPPT Output', linestyle=':')\n",
    "            axs[0].set_title(location + ' ' + date.strftime('%Y-%m-%d') + ' MPPT Output')\n",
    "            axs[0].text(0.05, 0.95, f'Series Energy: {series_energy:.2f}Wh', transform=axs[0].transAxes)\n",
    "            axs[0].text(0.05, 0.90, f'Parallel Energy: {parallel_energy:.2f}Wh', transform=axs[0].transAxes)\n",
    "            axs[0].text(0.05, 0.85, f'Delta: {delta:.2f}Wh', transform=axs[0].transAxes)\n",
    "            axs[0].legend()\n",
    "\n",
    "            # Create a new y-axis that shares the same x-axis\n",
    "            ax2 = axs[0].twinx()\n",
    "\n",
    "            # On the same subplot, but with a secondary y-axis, create a plot of the effective irradiance\n",
    "            series_geff_slice.plot(ax=ax2, label='Geff', linestyle='--', color='r')\n",
    "\n",
    "            # Set the labels for the y-axes\n",
    "            axs[0].set_ylabel('Power [W]')\n",
    "            ax2.set_ylabel('Effective Irradiance [W/m^2]')\n",
    "\n",
    "            # Set the label for the x-axis\n",
    "            axs[0].set_xlabel('Time')\n",
    "\n",
    "            # Create a legend for the new y-axis\n",
    "            ax2.legend(loc='upper right')\n",
    "\n",
    "            # Ensure the legend for the original y-axis is still displayed\n",
    "            axs[0].legend(loc='upper left')\n",
    "            \n",
    "\n",
    "\n",
    "            # Create a plot of the v_oc for the parallel case\n",
    "            parallel_dc_slice['v_oc'].plot(ax=axs[1], label='V_oc')\n",
    "            axs[1].axhline(y=mppt_parameters['v_batt'] + mppt_parameters['v_start_delta'], color='r', linestyle='--', label='V_start')\n",
    "            axs[1].set_title(location + ' ' + date.strftime('%Y-%m-%d')+' Voc'+f' Max Cell Temp: {max_cell_temp:.2f}C')\n",
    "            axs[1].legend()\n",
    "\n",
    "            # Create a plot of the v_mp for the parallel case\n",
    "            parallel_dc_slice['v_mp'].plot(ax=axs[2], label='V_mp')\n",
    "            (parallel_dc_slice['v_mp']-parallel_dc_ohmic_slice['v_pv_wire_drop']).plot(ax=axs[2], label='V_mp-Ohmic', linestyle=':')\n",
    "            axs[2].axhline(y=mppt_parameters['v_batt'] + mppt_parameters['v_continue_delta'], color='r', linestyle='--', label='V_continue')\n",
    "            axs[2].set_title(location + ' ' + date.strftime('%Y-%m-%d')+' Vmp'+f' Max Cell Temp: {max_cell_temp:.2f}C')\n",
    "            axs[2].legend()\n",
    "\n",
    "            # Adjust the layout of the subplots\n",
    "            plt.tight_layout()\n",
    "            plt.show()\n",
    "\n",
    "            # Additional plots\n",
    "            parallel_cell_slice.plot()\n",
    "            # print the first row of several parameters\n",
    "            print('diode\\n', parallel_diode_slice.iloc[0])\n",
    "            print('dc\\n',parallel_dc_slice.iloc[0])\n",
    "            print('ac\\n',parallel_ac_slice.iloc[0])\n",
    "            print('cell temp\\n',parallel_cell_slice.iloc[0])\n",
    "            print('geff\\n',series_geff_slice.iloc[0])\n",
    "            print('weather\\n',parallel_weather_slice.iloc[0])\n",
    "            print('panel\\n')\n",
    "            print('total irrad\\n',parallel_total_irrad_slice.iloc[0])\n",
    "            print('effective irradiance\\n',parallel_effective_irradiance_slice.iloc[0])\n",
    "            for key, value in mcParallel.system.arrays[0].module_parameters.items():\n",
    "                print(key, value)\n",
    "\n",
    "\n"
   ]
  }
 ],
 "metadata": {
  "kernelspec": {
   "display_name": "Python 3",
   "language": "python",
   "name": "python3"
  },
  "language_info": {
   "codemirror_mode": {
    "name": "ipython",
    "version": 3
   },
   "file_extension": ".py",
   "mimetype": "text/x-python",
   "name": "python",
   "nbconvert_exporter": "python",
   "pygments_lexer": "ipython3",
   "version": "3.12.1"
  }
 },
 "nbformat": 4,
 "nbformat_minor": 2
}
