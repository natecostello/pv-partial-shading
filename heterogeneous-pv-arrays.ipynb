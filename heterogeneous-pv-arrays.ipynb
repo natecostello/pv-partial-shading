{
 "cells": [
  {
   "cell_type": "markdown",
   "metadata": {},
   "source": [
    "# Combining Solar Panels\n",
    "\n",
    "This study explores the effect of variability in exposure and panel characteristics of PV panels in an array on the array's yield.\n",
    "\n",
    "\n"
   ]
  },
  {
   "cell_type": "markdown",
   "metadata": {},
   "source": [
    "### Setup\n",
    "\n",
    "Import neccessary packages.  Setup constants and panel parameters."
   ]
  },
  {
   "cell_type": "code",
   "execution_count": 9,
   "metadata": {},
   "outputs": [],
   "source": [
    "from pvlib import pvsystem, singlediode, ivtools\n",
    "import pandas as pd\n",
    "import numpy as np\n",
    "from scipy.interpolate import interp1d\n",
    "import matplotlib.pyplot as plt\n",
    "from scipy.constants import e as qe, k as kB\n",
    "\n",
    "# For simplicity, use cell temperature of 25C for all calculations.\n",
    "# kB is J/K, qe is C=J/V\n",
    "# kB * T / qe -> V\n",
    "Vth = kB * (273.15+25) / qe\n",
    "\n",
    "# Input the module parameters from the datasheet\n",
    "# Panasonic N330\n",
    "module_parameters = {\n",
    "    'celltype': 'monoSi',\n",
    "    'V_mp_ref': 58.0,\n",
    "    'I_mp_ref': 5.7,\n",
    "    'V_oc_ref': 69.7,\n",
    "    'I_sc_ref': 6.07,\n",
    "    'alpha_sc': 0.00334,\n",
    "    'beta_oc': -0.16,\n",
    "    'gamma_pmp': -0.258,\n",
    "    'cells_in_series': 96,  # data sheet shows 96 cells and states 4 bypass diodes\n",
    "    'temp_ref': 25\n",
    "}\n",
    "\n",
    "\n",
    "# Use ivtools to estimate parameters for the CEC SDM\n",
    "I_L_ref, I_o_ref, R_s, R_sh_ref, a_ref, Adjust = ivtools.sdm.fit_cec_sam(module_parameters['celltype'], \n",
    "                                                                         module_parameters['V_mp_ref'], \n",
    "                                                                         module_parameters['I_mp_ref'], \n",
    "                                                                         module_parameters['V_oc_ref'], \n",
    "                                                                         module_parameters['I_sc_ref'], \n",
    "                                                                         module_parameters['alpha_sc'], \n",
    "                                                                         module_parameters['beta_oc'], \n",
    "                                                                         module_parameters['gamma_pmp'], \n",
    "                                                                         module_parameters['cells_in_series'], \n",
    "                                                                         module_parameters['temp_ref'])\n",
    "\n",
    "# Add these new estimated parameters\n",
    "module_parameters['I_L_ref']=I_L_ref\n",
    "module_parameters['I_o_ref']=I_o_ref\n",
    "module_parameters['R_s']=R_s\n",
    "module_parameters['R_sh_ref']=R_sh_ref\n",
    "module_parameters['a_ref']=a_ref\n",
    "\n",
    "\n",
    "# Full sun\n",
    "Geff_full=1000\n",
    "\n",
    "# Shaded\n",
    "Geff_shade=100\n"
   ]
  },
  {
   "cell_type": "markdown",
   "metadata": {},
   "source": [
    "Use De Soto simulate an IV curve."
   ]
  },
  {
   "cell_type": "code",
   "execution_count": 15,
   "metadata": {},
   "outputs": [
    {
     "data": {
      "image/png": "[encoded data removed]",
      "text/plain": [
       "<Figure size 640x480 with 1 Axes>"
      ]
     },
     "metadata": {},
     "output_type": "display_data"
    }
   ],
   "source": [
    "\n",
    "def simulate_full_curve(parameters, Geff, Tcell, ivcurve_pnts=1000):\n",
    "    \"\"\"\n",
    "    Use De Soto to simulate a full IV curve.\n",
    "    \"\"\"\n",
    "    # adjust the reference parameters according to the operating\n",
    "    # conditions using the De Soto model:\n",
    "    IL, I0, Rs, Rsh, nNsVth = pvsystem.calcparams_desoto(\n",
    "        Geff,\n",
    "        Tcell,\n",
    "        alpha_sc=parameters['alpha_sc'],\n",
    "        a_ref=parameters['a_ref'],\n",
    "        I_L_ref=parameters['I_L_ref'],\n",
    "        I_o_ref=parameters['I_o_ref'],\n",
    "        R_sh_ref=parameters['R_sh_ref'],\n",
    "        R_s=parameters['R_s'],\n",
    "    )\n",
    "\n",
    "    SDE_params = {\n",
    "        'photocurrent': IL,\n",
    "        'saturation_current': I0,\n",
    "        'resistance_series': Rs,\n",
    "        'resistance_shunt': Rsh,\n",
    "        'nNsVth': nNsVth\n",
    "    }\n",
    "\n",
    "    # Use the SDE parameters to calculate points on the IV curve\n",
    "    \n",
    "    curve_info = pvsystem.singlediode(method='lambertw', **SDE_params)\n",
    "    v_curve = pd.DataFrame({'v': np.linspace(0, curve_info['v_oc'], 100)})\n",
    "    i_curve = pd.DataFrame({'i': pvsystem.i_from_v(voltage=v_curve['v'], method='lambertw', **SDE_params)})\n",
    "\n",
    "    return pd.DataFrame({\n",
    "    'i': i_curve['i'],\n",
    "    'v': v_curve['v'],\n",
    "    })\n",
    "\n",
    "def interpolate(df, i):\n",
    "    \"\"\"convenience wrapper around scipy.interpolate.interp1d\"\"\"\n",
    "    f_interp = interp1d(np.flipud(df['i']), np.flipud(df['v']), kind='linear',\n",
    "                        fill_value='extrapolate')\n",
    "    return f_interp(i)\n",
    "\n",
    "\n",
    "def combine_series(dfs):\n",
    "    \"\"\"\n",
    "    Combine IV curves in series by aligning currents and summing voltages.\n",
    "    The current range is based on the first curve's current range.\n",
    "    \"\"\"\n",
    "    df1 = dfs[0]\n",
    "    imin = df1['i'].min()\n",
    "    imax = df1['i'].max()\n",
    "    i = np.linspace(imin, imax, 1000)\n",
    "    v = 0\n",
    "    for df2 in dfs:\n",
    "        v_cell = interpolate(df2, i)\n",
    "        v += v_cell\n",
    "    return pd.DataFrame({'i': i, 'v': v})\n",
    "\n",
    "# create a curve and plot (test)\n",
    "curve_full = simulate_full_curve(module_parameters, Geff_full, 25)\n",
    "curve_shade = simulate_full_curve(module_parameters, Geff_shade, 25)\n",
    "plt.plot(curve_full['v'], curve_full['i'])\n",
    "plt.plot(curve_shade['v'], curve_shade['i'])\n",
    "plt.xlabel('Voltage (V)')\n",
    "plt.ylabel('Current (I)')\n",
    "plt.xlim(left=0)  # Set the left limit of the x-axis to 0\n",
    "plt.ylim(bottom=0)  # Set the bottom limit of the y-axis to 0\n",
    "plt.savefig('test.png')"
   ]
  },
  {
   "cell_type": "markdown",
   "metadata": {},
   "source": [
    "## Uniform Case (Control)\n",
    "### 2S2P\n",
    "### 4P"
   ]
  },
  {
   "cell_type": "code",
   "execution_count": null,
   "metadata": {},
   "outputs": [],
   "source": [
    "\n",
    "\n"
   ]
  },
  {
   "cell_type": "markdown",
   "metadata": {
    "vscode": {
     "languageId": "plaintext"
    }
   },
   "source": [
    "\n",
    "## Uniform Case (Control)\n",
    "### Series\n",
    "### Parallel\n",
    "### Dedicated MPPT\n",
    "\n",
    "## Variation In Exposure Angle\n",
    "### Series\n",
    "### Parallel\n",
    "### Dedicated MPPT\n",
    "\n",
    "## Variation in Shading\n",
    "### Series\n",
    "### Parallel\n",
    "### Dedicated MPPT\n",
    "\n",
    "## Variation in Panel Make/Model\n",
    "### Series\n",
    "### Parallel\n",
    "### Dedicated MPPT"
   ]
  },
  {
   "cell_type": "code",
   "execution_count": null,
   "metadata": {},
   "outputs": [],
   "source": []
  }
 ],
 "metadata": {
  "kernelspec": {
   "display_name": "Python 3",
   "language": "python",
   "name": "python3"
  },
  "language_info": {
   "codemirror_mode": {
    "name": "ipython",
    "version": 3
   },
   "file_extension": ".py",
   "mimetype": "text/x-python",
   "name": "python",
   "nbconvert_exporter": "python",
   "pygments_lexer": "ipython3",
   "version": "3.12.1"
  }
 },
 "nbformat": 4,
 "nbformat_minor": 2
}
