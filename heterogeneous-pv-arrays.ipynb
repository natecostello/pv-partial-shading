{
 "cells": [
  {
   "cell_type": "markdown",
   "metadata": {},
   "source": [
    "# Combining Solar Panels\n",
    "\n",
    "This study explores the effect of variability in exposure and panel characteristics of PV panels in an array on the array's yield.\n",
    "\n",
    "\n"
   ]
  },
  {
   "cell_type": "markdown",
   "metadata": {},
   "source": [
    "#### Setup\n",
    "\n",
    "Import neccessary packages.  Setup constants and panel parameters."
   ]
  },
  {
   "cell_type": "code",
   "execution_count": 3,
   "metadata": {},
   "outputs": [
    {
     "ename": "ImportError",
     "evalue": "Requires NREL's PySAM package at https://pypi.org/project/NREL-PySAM/.",
     "output_type": "error",
     "traceback": [
      "\u001b[0;31m---------------------------------------------------------------------------\u001b[0m",
      "\u001b[0;31mModuleNotFoundError\u001b[0m                       Traceback (most recent call last)",
      "File \u001b[0;32m~/.local/lib/python3.12/site-packages/pvlib/ivtools/sdm.py:102\u001b[0m, in \u001b[0;36mfit_cec_sam\u001b[0;34m(celltype, v_mp, i_mp, v_oc, i_sc, alpha_sc, beta_voc, gamma_pmp, cells_in_series, temp_ref)\u001b[0m\n\u001b[1;32m    101\u001b[0m \u001b[38;5;28;01mtry\u001b[39;00m:\n\u001b[0;32m--> 102\u001b[0m     \u001b[38;5;28;01mfrom\u001b[39;00m \u001b[38;5;21;01mPySAM\u001b[39;00m \u001b[38;5;28;01mimport\u001b[39;00m PySSC\n\u001b[1;32m    103\u001b[0m \u001b[38;5;28;01mexcept\u001b[39;00m \u001b[38;5;167;01mImportError\u001b[39;00m:\n",
      "\u001b[0;31mModuleNotFoundError\u001b[0m: No module named 'PySAM'",
      "\nDuring handling of the above exception, another exception occurred:\n",
      "\u001b[0;31mImportError\u001b[0m                               Traceback (most recent call last)",
      "Cell \u001b[0;32mIn[3], line 30\u001b[0m\n\u001b[1;32m     15\u001b[0m module_parameters \u001b[38;5;241m=\u001b[39m {\n\u001b[1;32m     16\u001b[0m     \u001b[38;5;124m'\u001b[39m\u001b[38;5;124mcelltype\u001b[39m\u001b[38;5;124m'\u001b[39m: \u001b[38;5;124m'\u001b[39m\u001b[38;5;124mmonoSi\u001b[39m\u001b[38;5;124m'\u001b[39m,\n\u001b[1;32m     17\u001b[0m     \u001b[38;5;124m'\u001b[39m\u001b[38;5;124mV_mp_ref\u001b[39m\u001b[38;5;124m'\u001b[39m: \u001b[38;5;241m58.0\u001b[39m,\n\u001b[0;32m   (...)\u001b[0m\n\u001b[1;32m     25\u001b[0m     \u001b[38;5;124m'\u001b[39m\u001b[38;5;124mtemp_ref\u001b[39m\u001b[38;5;124m'\u001b[39m: \u001b[38;5;241m25\u001b[39m\n\u001b[1;32m     26\u001b[0m }\n\u001b[1;32m     29\u001b[0m \u001b[38;5;66;03m# Use ivtools to estimate parameters for the CEC SDM\u001b[39;00m\n\u001b[0;32m---> 30\u001b[0m I_L_ref, I_o_ref, R_s, R_sh_ref, a_ref, Adjust \u001b[38;5;241m=\u001b[39m \u001b[43mivtools\u001b[49m\u001b[38;5;241;43m.\u001b[39;49m\u001b[43msdm\u001b[49m\u001b[38;5;241;43m.\u001b[39;49m\u001b[43mfit_cec_sam\u001b[49m\u001b[43m(\u001b[49m\u001b[43m \u001b[49m\u001b[43mmodule_parameters\u001b[49m\u001b[43m[\u001b[49m\u001b[38;5;124;43m'\u001b[39;49m\u001b[38;5;124;43mcelltype\u001b[39;49m\u001b[38;5;124;43m'\u001b[39;49m\u001b[43m]\u001b[49m\u001b[43m,\u001b[49m\u001b[43m \u001b[49m\u001b[43mmodule_parameters\u001b[49m\u001b[43m[\u001b[49m\u001b[38;5;124;43m'\u001b[39;49m\u001b[38;5;124;43mV_oc_ref\u001b[39;49m\u001b[38;5;124;43m'\u001b[39;49m\u001b[43m]\u001b[49m\u001b[43m,\u001b[49m\u001b[43m \u001b[49m\u001b[43mmodule_parameters\u001b[49m\u001b[43m[\u001b[49m\u001b[38;5;124;43m'\u001b[39;49m\u001b[38;5;124;43mI_sc_ref\u001b[39;49m\u001b[38;5;124;43m'\u001b[39;49m\u001b[43m]\u001b[49m\u001b[43m,\u001b[49m\u001b[43m \u001b[49m\u001b[43mmodule_parameters\u001b[49m\u001b[43m[\u001b[49m\u001b[38;5;124;43m'\u001b[39;49m\u001b[38;5;124;43mV_mp_ref\u001b[39;49m\u001b[38;5;124;43m'\u001b[39;49m\u001b[43m]\u001b[49m\u001b[43m,\u001b[49m\u001b[43m \u001b[49m\u001b[43mmodule_parameters\u001b[49m\u001b[43m[\u001b[49m\u001b[38;5;124;43m'\u001b[39;49m\u001b[38;5;124;43mI_mp_ref\u001b[39;49m\u001b[38;5;124;43m'\u001b[39;49m\u001b[43m]\u001b[49m\u001b[43m,\u001b[49m\u001b[43m \u001b[49m\u001b[43mmodule_parameters\u001b[49m\u001b[43m[\u001b[49m\u001b[38;5;124;43m'\u001b[39;49m\u001b[38;5;124;43malpha_sc\u001b[39;49m\u001b[38;5;124;43m'\u001b[39;49m\u001b[43m]\u001b[49m\u001b[43m,\u001b[49m\u001b[43m \u001b[49m\u001b[43mmodule_parameters\u001b[49m\u001b[43m[\u001b[49m\u001b[38;5;124;43m'\u001b[39;49m\u001b[38;5;124;43mbeta_oc\u001b[39;49m\u001b[38;5;124;43m'\u001b[39;49m\u001b[43m]\u001b[49m\u001b[43m,\u001b[49m\u001b[43m \u001b[49m\u001b[43mmodule_parameters\u001b[49m\u001b[43m[\u001b[49m\u001b[38;5;124;43m'\u001b[39;49m\u001b[38;5;124;43mgamma_pmp\u001b[39;49m\u001b[38;5;124;43m'\u001b[39;49m\u001b[43m]\u001b[49m\u001b[43m,\u001b[49m\u001b[43m \u001b[49m\u001b[43mmodule_parameters\u001b[49m\u001b[43m[\u001b[49m\u001b[38;5;124;43m'\u001b[39;49m\u001b[38;5;124;43mcells_in_series\u001b[39;49m\u001b[38;5;124;43m'\u001b[39;49m\u001b[43m]\u001b[49m\u001b[43m,\u001b[49m\u001b[43m \u001b[49m\u001b[43mmodule_parameters\u001b[49m\u001b[43m[\u001b[49m\u001b[38;5;124;43m'\u001b[39;49m\u001b[38;5;124;43mtemp_ref\u001b[39;49m\u001b[38;5;124;43m'\u001b[39;49m\u001b[43m]\u001b[49m\u001b[43m \u001b[49m\u001b[43m)\u001b[49m\n",
      "File \u001b[0;32m~/.local/lib/python3.12/site-packages/pvlib/ivtools/sdm.py:104\u001b[0m, in \u001b[0;36mfit_cec_sam\u001b[0;34m(celltype, v_mp, i_mp, v_oc, i_sc, alpha_sc, beta_voc, gamma_pmp, cells_in_series, temp_ref)\u001b[0m\n\u001b[1;32m    102\u001b[0m     \u001b[38;5;28;01mfrom\u001b[39;00m \u001b[38;5;21;01mPySAM\u001b[39;00m \u001b[38;5;28;01mimport\u001b[39;00m PySSC\n\u001b[1;32m    103\u001b[0m \u001b[38;5;28;01mexcept\u001b[39;00m \u001b[38;5;167;01mImportError\u001b[39;00m:\n\u001b[0;32m--> 104\u001b[0m     \u001b[38;5;28;01mraise\u001b[39;00m \u001b[38;5;167;01mImportError\u001b[39;00m(\u001b[38;5;124m\"\u001b[39m\u001b[38;5;124mRequires NREL\u001b[39m\u001b[38;5;124m'\u001b[39m\u001b[38;5;124ms PySAM package at \u001b[39m\u001b[38;5;124m\"\u001b[39m\n\u001b[1;32m    105\u001b[0m                       \u001b[38;5;124m\"\u001b[39m\u001b[38;5;124mhttps://pypi.org/project/NREL-PySAM/.\u001b[39m\u001b[38;5;124m\"\u001b[39m)\n\u001b[1;32m    107\u001b[0m datadict \u001b[38;5;241m=\u001b[39m {\u001b[38;5;124m'\u001b[39m\u001b[38;5;124mtech_model\u001b[39m\u001b[38;5;124m'\u001b[39m: \u001b[38;5;124m'\u001b[39m\u001b[38;5;124m6parsolve\u001b[39m\u001b[38;5;124m'\u001b[39m, \u001b[38;5;124m'\u001b[39m\u001b[38;5;124mfinancial_model\u001b[39m\u001b[38;5;124m'\u001b[39m: \u001b[38;5;28;01mNone\u001b[39;00m,\n\u001b[1;32m    108\u001b[0m             \u001b[38;5;124m'\u001b[39m\u001b[38;5;124mcelltype\u001b[39m\u001b[38;5;124m'\u001b[39m: celltype, \u001b[38;5;124m'\u001b[39m\u001b[38;5;124mVmp\u001b[39m\u001b[38;5;124m'\u001b[39m: v_mp,\n\u001b[1;32m    109\u001b[0m             \u001b[38;5;124m'\u001b[39m\u001b[38;5;124mImp\u001b[39m\u001b[38;5;124m'\u001b[39m: i_mp, \u001b[38;5;124m'\u001b[39m\u001b[38;5;124mVoc\u001b[39m\u001b[38;5;124m'\u001b[39m: v_oc, \u001b[38;5;124m'\u001b[39m\u001b[38;5;124mIsc\u001b[39m\u001b[38;5;124m'\u001b[39m: i_sc, \u001b[38;5;124m'\u001b[39m\u001b[38;5;124malpha_isc\u001b[39m\u001b[38;5;124m'\u001b[39m: alpha_sc,\n\u001b[1;32m    110\u001b[0m             \u001b[38;5;124m'\u001b[39m\u001b[38;5;124mbeta_voc\u001b[39m\u001b[38;5;124m'\u001b[39m: beta_voc, \u001b[38;5;124m'\u001b[39m\u001b[38;5;124mgamma_pmp\u001b[39m\u001b[38;5;124m'\u001b[39m: gamma_pmp,\n\u001b[1;32m    111\u001b[0m             \u001b[38;5;124m'\u001b[39m\u001b[38;5;124mNser\u001b[39m\u001b[38;5;124m'\u001b[39m: cells_in_series, \u001b[38;5;124m'\u001b[39m\u001b[38;5;124mTref\u001b[39m\u001b[38;5;124m'\u001b[39m: temp_ref}\n\u001b[1;32m    113\u001b[0m result \u001b[38;5;241m=\u001b[39m PySSC\u001b[38;5;241m.\u001b[39mssc_sim_from_dict(datadict)\n",
      "\u001b[0;31mImportError\u001b[0m: Requires NREL's PySAM package at https://pypi.org/project/NREL-PySAM/."
     ]
    }
   ],
   "source": [
    "from pvlib import pvsystem, singlediode, ivtools\n",
    "import pandas as pd\n",
    "import numpy as np\n",
    "from scipy.interpolate import interp1d\n",
    "import matplotlib.pyplot as plt\n",
    "from scipy.constants import e as qe, k as kB\n",
    "\n",
    "# For simplicity, use cell temperature of 25C for all calculations.\n",
    "# kB is J/K, qe is C=J/V\n",
    "# kB * T / qe -> V\n",
    "Vth = kB * (273.15+25) / qe\n",
    "\n",
    "# Input the module parameters from the datasheet\n",
    "# Panasonic N330\n",
    "module_parameters = {\n",
    "    'celltype': 'monoSi',\n",
    "    'V_mp_ref': 58.0,\n",
    "    'I_mp_ref': 5.7,\n",
    "    'V_oc_ref': 69.7,\n",
    "    'I_sc_ref': 6.07,\n",
    "    'alpha_sc': 0.00334,\n",
    "    'beta_oc': -0.16,\n",
    "    'gamma_pmp': -.258,\n",
    "    'cells_in_series': 24, #data sheet shows 96 cells and states 4 bypass diodes\n",
    "    'temp_ref': 25\n",
    "}\n",
    "\n",
    "\n",
    "# Use ivtools to estimate parameters for the CEC SDM\n",
    "I_L_ref, I_o_ref, R_s, R_sh_ref, a_ref, Adjust = ivtools.sdm.fit_cec_sam( module_parameters['celltype'], module_parameters['V_oc_ref'], module_parameters['I_sc_ref'], module_parameters['V_mp_ref'], module_parameters['I_mp_ref'], module_parameters['alpha_sc'], module_parameters['beta_oc'], module_parameters['gamma_pmp'], module_parameters['cells_in_series'], module_parameters['temp_ref'] )\n",
    "\n",
    "\n",
    "\n"
   ]
  },
  {
   "cell_type": "markdown",
   "metadata": {},
   "source": []
  },
  {
   "cell_type": "code",
   "execution_count": null,
   "metadata": {},
   "outputs": [],
   "source": [
    "\n",
    "\n"
   ]
  },
  {
   "cell_type": "markdown",
   "metadata": {
    "vscode": {
     "languageId": "plaintext"
    }
   },
   "source": [
    "\n",
    "## Uniform Case (Control)\n",
    "### Series\n",
    "### Parallel\n",
    "### Dedicated MPPT\n",
    "\n",
    "## Variation In Exposure Angle\n",
    "### Series\n",
    "### Parallel\n",
    "### Dedicated MPPT\n",
    "\n",
    "## Variation in Shading\n",
    "### Series\n",
    "### Parallel\n",
    "### Dedicated MPPT\n",
    "\n",
    "## Variation in Panel Make/Model\n",
    "### Series\n",
    "### Parallel\n",
    "### Dedicated MPPT"
   ]
  },
  {
   "cell_type": "code",
   "execution_count": null,
   "metadata": {},
   "outputs": [],
   "source": []
  }
 ],
 "metadata": {
  "kernelspec": {
   "display_name": "Python 3",
   "language": "python",
   "name": "python3"
  },
  "language_info": {
   "codemirror_mode": {
    "name": "ipython",
    "version": 3
   },
   "file_extension": ".py",
   "mimetype": "text/x-python",
   "name": "python",
   "nbconvert_exporter": "python",
   "pygments_lexer": "ipython3",
   "version": "3.12.1"
  }
 },
 "nbformat": 4,
 "nbformat_minor": 2
}
