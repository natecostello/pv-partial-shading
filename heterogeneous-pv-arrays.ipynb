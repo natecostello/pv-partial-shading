{
 "cells": [
  {
   "cell_type": "markdown",
   "metadata": {},
   "source": [
    "# Combining Solar Panels\n",
    "\n",
    "This study explores the effect of variability in exposure and panel characteristics of PV panels in an array on the array's yield.\n",
    "\n",
    "\n",
    "\n",
    "## Uniform Case (Control)\n",
    "### Series\n",
    "### Parallel\n",
    "### Dedicated MPPT\n",
    "\n",
    "## Variation In Exposure Angle\n",
    "### Series\n",
    "### Parallel\n",
    "### Dedicated MPPT\n",
    "\n",
    "## Variation in Shading\n",
    "### Series\n",
    "### Parallel\n",
    "### Dedicated MPPT\n",
    "\n",
    "## Variation in Panel Make/Model\n",
    "### Series\n",
    "### Parallel\n",
    "### Dedicated MPPT"
   ]
  },
  {
   "cell_type": "code",
   "execution_count": null,
   "metadata": {
    "vscode": {
     "languageId": "plaintext"
    }
   },
   "outputs": [],
   "source": []
  },
  {
   "cell_type": "code",
   "execution_count": null,
   "metadata": {
    "vscode": {
     "languageId": "plaintext"
    }
   },
   "outputs": [],
   "source": []
  },
  {
   "cell_type": "code",
   "execution_count": null,
   "metadata": {
    "vscode": {
     "languageId": "plaintext"
    }
   },
   "outputs": [],
   "source": []
  }
 ],
 "metadata": {
  "language_info": {
   "name": "python"
  }
 },
 "nbformat": 4,
 "nbformat_minor": 2
}
