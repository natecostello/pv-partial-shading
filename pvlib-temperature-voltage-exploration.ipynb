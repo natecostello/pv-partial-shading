{
 "cells": [
  {
   "cell_type": "markdown",
   "metadata": {},
   "source": [
    "# Purpose\n",
    "\n",
    "This notebook explores the details of how pvlib determines cell temperature.  The motivation is exploring discrepencies observed in Voc and Vmpp results."
   ]
  },
  {
   "cell_type": "markdown",
   "metadata": {},
   "source": [
    "# Setup Imports"
   ]
  },
  {
   "cell_type": "code",
   "execution_count": 30,
   "metadata": {},
   "outputs": [],
   "source": [
    "# Setup\n",
    "import pvlib\n",
    "from pvlib.pvsystem import PVSystem, Array, FixedMount\n",
    "from pvlib.location import Location\n",
    "from pvlib.modelchain import ModelChain\n",
    "import pandas as pd\n",
    "import matplotlib.pyplot as plt\n",
    "import numpy as np\n",
    "from userdefinedmodels import *"
   ]
  },
  {
   "cell_type": "markdown",
   "metadata": {},
   "source": [
    "# Setup Location and Weather\n",
    "\n",
    "The descrepancy we observed was between a manual panel calculation and a modelchain run from 2022 weather in Phoenix."
   ]
  },
  {
   "cell_type": "code",
   "execution_count": 31,
   "metadata": {},
   "outputs": [],
   "source": [
    "\n",
    "\n",
    "# latitude, longitude, name, altitude, timezone\n",
    "phoenix = (33.5, -112.0, 'Phoenix', 340, 'Etc/GMT+7')\n",
    "latitude, longitude, name, altitude, timezone = phoenix\n",
    "\n",
    "location = Location(\n",
    "    latitude,\n",
    "    longitude,\n",
    "    name=name,\n",
    "    altitude=altitude,\n",
    "    tz=timezone,\n",
    "    )\n",
    "\n",
    "# read psm3 df file and setup weather\n",
    "names = '2022'\n",
    "filename = 'psm3_' + location.name + '_' + names + '.csv'\n",
    "weather_full_year = pd.read_csv(filename, index_col=0, parse_dates=True)\n",
    "\n",
    "# slice weather to get df with a single entry for 2022-04-08 12:10:00-07:00\n",
    "weather = weather_full_year.loc['2022-04-08 12:10:00-07:00':'2022-04-08 12:10:00-07:00']"
   ]
  },
  {
   "cell_type": "markdown",
   "metadata": {},
   "source": [
    "# Setup System"
   ]
  },
  {
   "cell_type": "markdown",
   "metadata": {},
   "source": [
    "## Module Parameters\n",
    "This evaluation will use the rich solar 12V panel"
   ]
  },
  {
   "cell_type": "code",
   "execution_count": 32,
   "metadata": {},
   "outputs": [],
   "source": [
    "import richsolarpanels\n",
    "rich_solar_12V_params = richsolarpanels.RICH_SOLAR_12V"
   ]
  },
  {
   "cell_type": "markdown",
   "metadata": {},
   "source": [
    "## Temperature Parameters"
   ]
  },
  {
   "cell_type": "code",
   "execution_count": 33,
   "metadata": {},
   "outputs": [
    {
     "name": "stdout",
     "output_type": "stream",
     "text": [
      "{'a': -3.47, 'b': -0.0594, 'deltaT': 3}\n"
     ]
    }
   ],
   "source": [
    "temperature_model_parameters = pvlib.temperature.TEMPERATURE_MODEL_PARAMETERS['sapm']['open_rack_glass_glass']\n",
    "print(temperature_model_parameters)"
   ]
  },
  {
   "cell_type": "markdown",
   "metadata": {},
   "source": [
    "## Inverter (MPPT) Parameters"
   ]
  },
  {
   "cell_type": "code",
   "execution_count": 34,
   "metadata": {},
   "outputs": [],
   "source": [
    "# We'll start with no wire losses and perfect MPPT efficiency\n",
    "#r_batt_wire = getWireResistance('8AWG', 5)\n",
    "#r_pv_wire = getWireResistance('8AWG', 10)\n",
    "r_batt_wire = 0\n",
    "r_pv_wire = 0\n",
    "mppt_eff = 1.0\n",
    "\n",
    "\n",
    "mppt_parameters = {\n",
    "    'v_batt': 14.2,\n",
    "    'v_start_delta': 5.0,\n",
    "    'v_continue_delta': 1.0,\n",
    "    'r_batt_wire': r_batt_wire,\n",
    "    'r_pv_wire': r_pv_wire,\n",
    "    'mppt_eff': mppt_eff\n",
    "}"
   ]
  },
  {
   "cell_type": "markdown",
   "metadata": {},
   "source": [
    "## System Configuration"
   ]
  },
  {
   "cell_type": "code",
   "execution_count": 35,
   "metadata": {},
   "outputs": [],
   "source": [
    "mount = FixedMount(\n",
    "    surface_tilt=0,\n",
    "    surface_azimuth=180,\n",
    "    )\n",
    "\n",
    "array = Array(\n",
    "    mount=mount, module_parameters=rich_solar_12V_params,\n",
    "    temperature_model_parameters=temperature_model_parameters,\n",
    "    strings=1, modules_per_string=1\n",
    "    )\n",
    "\n",
    "system = PVSystem(arrays=[array],inverter_parameters=mppt_parameters)"
   ]
  },
  {
   "cell_type": "markdown",
   "metadata": {},
   "source": [
    "## Create the ModelChain"
   ]
  },
  {
   "cell_type": "code",
   "execution_count": 36,
   "metadata": {},
   "outputs": [],
   "source": [
    "mc = ModelChain(\n",
    "    system, \n",
    "    location, \n",
    "    aoi_model=\"physical\", \n",
    "    spectral_model=\"no_loss\", \n",
    "    dc_model=\"desoto\",\n",
    "    ac_model=mppt,\n",
    "    dc_ohmic_model=pv_wire_loss\n",
    "    )"
   ]
  },
  {
   "cell_type": "markdown",
   "metadata": {},
   "source": [
    "# Run the Model"
   ]
  },
  {
   "cell_type": "code",
   "execution_count": 37,
   "metadata": {},
   "outputs": [
    {
     "data": {
      "text/plain": [
       "ModelChain: \n",
       "  name: None\n",
       "  clearsky_model: ineichen\n",
       "  transposition_model: haydavies\n",
       "  solar_position_method: nrel_numpy\n",
       "  airmass_model: kastenyoung1989\n",
       "  dc_model: desoto\n",
       "  ac_model: functools.partial(<function mppt at 0xffff59a5c9a0>, ModelChain: \n",
       "  name: None\n",
       "  clearsky_model: ineichen\n",
       "  transposition_model: haydavies\n",
       "  solar_position_method: nrel_numpy\n",
       "  airmass_model: kastenyoung1989\n",
       "  dc_model: desoto\n",
       "  ac_model: ...\n",
       "  aoi_model: physical_aoi_loss\n",
       "  spectral_model: no_spectral_loss\n",
       "  temperature_model: sapm_temp\n",
       "  losses_model: no_extra_losses)\n",
       "  aoi_model: physical_aoi_loss\n",
       "  spectral_model: no_spectral_loss\n",
       "  temperature_model: sapm_temp\n",
       "  losses_model: no_extra_losses"
      ]
     },
     "execution_count": 37,
     "metadata": {},
     "output_type": "execute_result"
    }
   ],
   "source": [
    "mc.run_model(weather)"
   ]
  },
  {
   "cell_type": "markdown",
   "metadata": {},
   "source": [
    "# Print Results"
   ]
  },
  {
   "cell_type": "code",
   "execution_count": 38,
   "metadata": {},
   "outputs": [
    {
     "name": "stdout",
     "output_type": "stream",
     "text": [
      "=== ModelChainResult === \n",
      "Number of Arrays: 1 \n",
      "times (first 3)\n",
      "DatetimeIndex(['2022-04-08 12:10:00-07:00'], dtype='datetime64[ns, UTC-07:00]', freq=None)\n",
      " ac: Series (length 1)\n",
      " airmass: DataFrame (1 rows x 2 columns)\n",
      " albedo: Series (length 1)\n",
      " aoi: Series (length 1)\n",
      " aoi_modifier: Series (length 1)\n",
      " cell_temperature: Series (length 1)\n",
      " dc: DataFrame (1 rows x 7 columns)\n",
      " dc_ohmic_losses: DataFrame (1 rows x 2 columns)\n",
      " diode_params: DataFrame (1 rows x 5 columns)\n",
      " effective_irradiance: Series (length 1)\n",
      " losses: 1\n",
      " solar_position: DataFrame (1 rows x 6 columns)\n",
      " spectral_modifier: 1\n",
      " total_irrad: DataFrame (1 rows x 5 columns)\n",
      " tracking: None\n",
      " weather: DataFrame (1 rows x 5 columns)\n",
      "weather\n",
      "\n",
      "                              ghi    dhi     dni  wind_speed  temp_air\n",
      "2022-04-08 12:10:00-07:00  1016.0  107.0  1015.0         1.6      35.0\n",
      "aoi\n",
      "\n",
      "2022-04-08 12:10:00-07:00    26.485275\n",
      "Name: aoi, dtype: float64\n",
      "effective_irradiance\n",
      "\n",
      "2022-04-08 12:10:00-07:00    1014.276987\n",
      "dtype: float64\n",
      "total_irrad\n",
      "\n",
      "                           poa_global  poa_direct  poa_diffuse  \\\n",
      "2022-04-08 12:10:00-07:00  1015.47474   908.47474        107.0   \n",
      "\n",
      "                           poa_sky_diffuse  poa_ground_diffuse  \n",
      "2022-04-08 12:10:00-07:00            107.0                 0.0  \n",
      "cell_temperature\n",
      "\n",
      "2022-04-08 12:10:00-07:00    66.780149\n",
      "dtype: float64\n",
      "diode_params\n",
      "\n",
      "                                 I_L           I_o       R_s        R_sh  \\\n",
      "2022-04-08 12:10:00-07:00  11.898671  3.689758e-07  0.122702  194.477887   \n",
      "\n",
      "                             nNsVth  \n",
      "2022-04-08 12:10:00-07:00  1.110265  \n",
      "losses\n",
      "\n",
      "1\n",
      "dc\n",
      "\n",
      "                                i_sc       v_oc       i_mp       v_mp  \\\n",
      "2022-04-08 12:10:00-07:00  11.891168  19.186078  10.930029  14.968774   \n",
      "\n",
      "                                 p_mp        i_x     i_xx  \n",
      "2022-04-08 12:10:00-07:00  163.609133  11.834161  7.67909  \n",
      "dc_ohmic_losses\n",
      "\n",
      "                           p_pv_wire_loss  v_pv_wire_drop\n",
      "2022-04-08 12:10:00-07:00             0.0             0.0\n",
      "ac\n",
      "\n",
      "2022-04-08 12:10:00-07:00    0.0\n",
      "Name: p_ac, dtype: float64\n"
     ]
    }
   ],
   "source": [
    "# Print all the results\n",
    "print(mc.results)\n",
    "print('weather\\n')\n",
    "print(mc.results.weather)\n",
    "print('aoi\\n')\n",
    "print(mc.results.aoi)\n",
    "print('effective_irradiance\\n')\n",
    "print(mc.results.effective_irradiance)\n",
    "print('total_irrad\\n')\n",
    "print(mc.results.total_irrad)\n",
    "print('cell_temperature\\n')\n",
    "print(mc.results.cell_temperature)\n",
    "print('diode_params\\n')\n",
    "print(mc.results.diode_params)\n",
    "print('losses\\n')\n",
    "print(mc.results.losses)\n",
    "print('dc\\n')\n",
    "print(mc.results.dc)\n",
    "print('dc_ohmic_losses\\n')\n",
    "print(mc.results.dc_ohmic_losses)\n",
    "print('ac\\n')\n",
    "print(mc.results.ac)"
   ]
  },
  {
   "cell_type": "markdown",
   "metadata": {},
   "source": [
    "# ModelChain Operation\n",
    "\n"
   ]
  },
  {
   "cell_type": "markdown",
   "metadata": {},
   "source": [
    "## Manual Cell Temperature Calculation\n",
    "\n",
    "`model_chain.run_model(weather)` calls\n",
    "- `self.effective_irradiance_model()` which calls\n",
    "- `self._run_from_effective_irrad(weather)` which binds `weather` to `data` ___ and calls\n",
    "    - `self._prepare_temperature(data)` which in our case calls\n",
    "        - `self.temperature_model()` which returns\n",
    "            - `self._temperature_model` which for our case was set to self.sapm_temp during init which calls\n",
    "                - `self.sapm_temp()` which returns\n",
    "                    - `self._set_celltemp('sapm')` which\n",
    "                        - binds its model parameter to 'sapm'\n",
    "                        - determines `poa = _irrad_for_cell_temp(self.results.total_irrad, self.results.effective_irradiance)` which preferentially returns `total_irrad['poa_global']` if its available else returns `effective_irradiance`\n",
    "                        - determines `temp_air` and `wind_speed` from `self.results.weather`\n",
    "                        - sets `self.results.cell_temperature = self.system.get_cell_temperature(poa, temp_air, wind_speed, model='sapm')` which calls\n",
    "                            - `PVSystem.get_cell_temperature(poa_global, temp_air, wind_speed, model, effective_irradiance=None)` which calls for each array in `self.arrays`\n",
    "                                - `array.get_cell_temperature(poa_global, temp_air, wind_speed, model, effective_irradiance)` which calls\n",
    "                                    - `Array.get_cell_temperature(poa_global, temp_air, wind_speed, model, effective_irradiance=None)` which \n",
    "                                        - binds `func` to `temperature.sapm_cell`\n",
    "                                        - builds required args for sapm (`a`, `b`, `deltaT`)\n",
    "                                        - binds `temperature_cell` to the result of `func` called with `poa_global`, `temp_air`, `wind_speed` and the required sapm args\n",
    "                                            - which calls `temperature.sapm_cell(poa_global, temp_air, wind_speed, a, b, deltaT)` which \n",
    "                                                - calculates `module_temperature = temperature.sapm_module(poa_global, temp_air, wind_speed, a, b)`\n",
    "                                                - returns a call to `temperature.sapm_cell_from_module(module_temperature, poa_global, deltaT, irrad_ref)` which calculates and returns the cell temperture\n",
    "\n",
    "\n",
    "                        - returns self\n",
    "\n",
    "Thus for our manual determination of cell temp we will simply call temperature.sapm_cell with our own values."
   ]
  },
  {
   "cell_type": "code",
   "execution_count": 39,
   "metadata": {},
   "outputs": [
    {
     "name": "stdout",
     "output_type": "stream",
     "text": [
      "cell_temp= 2022-04-08 12:10:00-07:00    66.780149\n",
      "dtype: float64\n",
      "mc.results.cell_temperature= 2022-04-08 12:10:00-07:00    66.780149\n",
      "dtype: float64\n"
     ]
    }
   ],
   "source": [
    "poa_global = mc.results.total_irrad.poa_global\n",
    "temp_air = mc.results.weather['temp_air']\n",
    "wind_speed = mc.results.weather['wind_speed']\n",
    "a = temperature_model_parameters['a']\n",
    "b = temperature_model_parameters['b']\n",
    "deltaT = temperature_model_parameters['deltaT']\n",
    "\n",
    "cell_temp = pvlib.temperature.sapm_cell(poa_global, temp_air, wind_speed, a, b, deltaT)\n",
    "print('cell_temp=', cell_temp)\n",
    "print('mc.results.cell_temperature=', mc.results.cell_temperature)"
   ]
  },
  {
   "cell_type": "markdown",
   "metadata": {},
   "source": [
    "## Manual V_oc and V_mpp Calculation\n",
    "\n",
    "`model_chain.run_model(weather)` calls\n",
    "- `self.effective_irradiance_model()` which\n",
    "- `self.aoi_model()` which\n",
    "- `self.spectral_model()`\n",
    "- `self._run_from_effective_irrad(weather)` which binds `weather` to `data` ___ and calls\n",
    "    - `self._prepare_temperature(data)` which ultimately inserts cell temps in `self.results.cell_temperature`\n",
    "    - `self.dc_model()` which returns `self._dc_model` which was set during init to `self.desoto` which returns\n",
    "        - `self._singlediode(self.system.calcparams_desoto)` which\n",
    "            - binds to `calcparams_model_function` `self.system.calcparams_desoto`\n",
    "            - binds `params` to the value returned by `calcparams_model_function(self.results.effective_irradiance, self.results.cell_temperature, unwrap=False)` which effectively calls `self.system.calcparams_desoto(self.results.effective_irradiance, self.results.cell_temperature, unwrap=False)` which is really calling\n",
    "                - `PVSystem.calcparams_desoto(self.results.effective_irradiance, self.results.cell_temperature, unwrap=False)` which builds kwargs and calls\n",
    "                    - `pvsystem.calcparams_desoto(effective_irradiance, temp_cell, alpha_sc, a_ref, I_L_ref, I_o_ref, R_sh_ref, R_s, EgRef=1.121, dEgdT=-0.0002677, irrad_ref=1000, temp_ref=25)` which returns a tuple of `photocurrent`, `saturation_current`, `resistance_series`, `resistance_shunt`, `nNsVth`\n",
    "            - sets self.results.diode_params to a dataframe made from params of the form `{'I_L': photocurrent, 'I_o': saturation_current, 'R_s': resistance_series, 'R_sh': resistance_shunt,'nNsVth': nNsVth}`\n",
    "            - sets self.results.dc to the value returned by `self.system.singlediode(params)` which calls `PVSystem.singlediode(self, photocurrent, saturation_current,resistance_series, resistance_shunt, nNsVth, ivcurve_pnts=None)`\n",
    "                - which returns `pvsystem.singlediode(photocurrent, saturation_current,resistance_series, resistance_shunt, nNsVth, ivcurve_pnts=None, method='lambertw')` which for our case\n",
    "                    - binds `args` to `(photocurrent, saturation_current, resistance_series,resistance_shunt, nNsVth)`\n",
    "                    - binds `out` to `_singlediode._lambertw(args, ivcurve_pnts)` which is really `pvlib.singlediode_lambertw(photocurrent, saturation_current, resistance_series, resistance_shunt, nNsVth, ivcurve_pnts=None)` which\n",
    "                        - calculates and returns a tuple `(i_sc, v_oc, i_mp, v_mp, p_mp, i_x, i_xx)`\n",
    "                    - returns out as a dataframe (or dict of scalars) with columns `i_sc`, `v_oc`, `i_mp`, `v_mp`, `p_mp`, `i_x`, `i_xx`"
   ]
  },
  {
   "cell_type": "markdown",
   "metadata": {},
   "source": [
    "We first need: \n",
    "`effective_irradiance`\n",
    "`cell_temp`\n",
    "`module_parameters`\n",
    "\n",
    "Then we run:\n",
    "`params = pvsystem.calcparams_desoto(effective_irradiance, cell_temp, ...module_parameters)`  \n",
    "\n",
    "`params` is a tuple (`photocurrent`, `saturation_current`, `resistance_series`, `resistance_shunt`, `nNsVth`)\n",
    "\n",
    "Then we run:\n",
    "`something = pvlib.singlediode._lambertw(photocurrent, saturation_current, resistance_series, resistance_shunt, nNsVth)`"
   ]
  },
  {
   "cell_type": "code",
   "execution_count": 41,
   "metadata": {},
   "outputs": [
    {
     "name": "stdout",
     "output_type": "stream",
     "text": [
      "effective_irradiance= 2022-04-08 12:10:00-07:00    1014.276987\n",
      "dtype: float64\n",
      "cell_temp= 2022-04-08 12:10:00-07:00    66.780149\n",
      "dtype: float64\n",
      "alpha_sc= 0.006962\n",
      "a_ref= 0.973804158972974\n",
      "I_L_ref= 11.44031204496401\n",
      "I_o_ref= 7.608255760344541e-10\n",
      "R_sh_ref= 197.25444549468273\n",
      "photocurrent= 11.898671422874457\n",
      "saturation_current= 3.689758348690943e-07\n",
      "resistance_series= 0.12270248066631148\n",
      "resistance_shunt= 194.4778872299518\n",
      "nNsVth= 1.1102646073366391\n",
      "something= (11.891167890628282, 19.1860782074873, 10.930028986844647, 14.96877396817531, 163.6091333696817, 11.834161224231412, 7.679089521584184)\n",
      "someother= {'i_sc': 11.891167890628282, 'v_oc': 19.1860782074873, 'i_mp': 10.930028986844647, 'v_mp': 14.96877396817531, 'p_mp': 163.6091333696817, 'i_x': 11.834161224231412, 'i_xx': 7.679089521584184}\n",
      "i_sc 11.891167890628282\n",
      "v_oc 19.1860782074873\n",
      "i_mp 10.930028986844647\n",
      "v_mp 14.96877396817531\n",
      "p_mp 163.6091333696817\n",
      "i_x 11.834161224231412\n",
      "i_xx 7.679089521584184\n"
     ]
    }
   ],
   "source": [
    "effective_irradiance = mc.results.effective_irradiance\n",
    "print('effective_irradiance=', effective_irradiance)\n",
    "cell_temp = mc.results.cell_temperature\n",
    "print('cell_temp=', cell_temp)\n",
    "\n",
    "# Desoto model parameters\n",
    "alpha_sc = rich_solar_12V_params['alpha_sc']\n",
    "a_ref = rich_solar_12V_params['a_ref']\n",
    "I_L_ref = rich_solar_12V_params['I_L_ref']\n",
    "I_o_ref = rich_solar_12V_params['I_o_ref']\n",
    "R_sh_ref = rich_solar_12V_params['R_sh_ref']\n",
    "R_s = rich_solar_12V_params['R_s']\n",
    "\n",
    "print('alpha_sc=', alpha_sc)\n",
    "print('a_ref=', a_ref)\n",
    "print('I_L_ref=', I_L_ref)\n",
    "print('I_o_ref=', I_o_ref)\n",
    "print('R_sh_ref=', R_sh_ref)\n",
    "\n",
    "photocurrent, saturation_current, resistance_series, resistance_shunt, nNsVth = pvlib.pvsystem.calcparams_desoto(effective_irradiance, cell_temp, alpha_sc, a_ref, I_L_ref, I_o_ref, R_sh_ref, R_s)\n",
    "# get the values from the series\n",
    "photocurrent = photocurrent.values[0]\n",
    "saturation_current = saturation_current.values[0]\n",
    "resistance_series = resistance_series.values[0]\n",
    "resistance_shunt = resistance_shunt.values[0]\n",
    "nNsVth = nNsVth.values[0]\n",
    "\n",
    "print('photocurrent=', photocurrent)\n",
    "print('saturation_current=', saturation_current)\n",
    "print('resistance_series=', resistance_series)\n",
    "print('resistance_shunt=', resistance_shunt)\n",
    "print('nNsVth=', nNsVth)\n",
    "\n",
    "# Calculate the diode parameters\n",
    "something = pvlib.singlediode._lambertw(photocurrent, saturation_current, resistance_series, resistance_shunt, nNsVth)\n",
    "someother = pvlib.pvsystem.singlediode(photocurrent, saturation_current, resistance_series, resistance_shunt, nNsVth, method='lambertw')\n",
    "\n",
    "print('something=', something)\n",
    "print('someother=', someother)\n",
    "\n",
    "for key in someother:\n",
    "    print(key, someother[key])"
   ]
  }
 ],
 "metadata": {
  "kernelspec": {
   "display_name": "Python 3",
   "language": "python",
   "name": "python3"
  },
  "language_info": {
   "codemirror_mode": {
    "name": "ipython",
    "version": 3
   },
   "file_extension": ".py",
   "mimetype": "text/x-python",
   "name": "python",
   "nbconvert_exporter": "python",
   "pygments_lexer": "ipython3",
   "version": "3.12.1"
  }
 },
 "nbformat": 4,
 "nbformat_minor": 2
}
