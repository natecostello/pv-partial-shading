{
 "cells": [
  {
   "cell_type": "markdown",
   "metadata": {},
   "source": [
    "# Setup Imports"
   ]
  },
  {
   "cell_type": "code",
   "execution_count": 4,
   "metadata": {},
   "outputs": [],
   "source": [
    "# Setup\n",
    "import pvlib\n",
    "from pvlib.pvsystem import PVSystem, Array, FixedMount\n",
    "from pvlib.location import Location\n",
    "from pvlib.modelchain import ModelChain\n",
    "import pandas as pd\n",
    "import matplotlib.pyplot as plt\n",
    "import numpy as np\n",
    "from userdefinedmodels import *"
   ]
  },
  {
   "cell_type": "markdown",
   "metadata": {},
   "source": [
    "# Setup Location and Weather"
   ]
  },
  {
   "cell_type": "code",
   "execution_count": 5,
   "metadata": {},
   "outputs": [],
   "source": [
    "# evaluate hood river, oregon and key west, florida\n",
    "\n",
    "# latitude, longitude, name, altitude, timezone\n",
    "hood_river = (45.71417626139969, -121.5154782530592, 'Hood River', 27, 'Etc/GMT+8')\n",
    "latitude, longitude, name, altitude, timezone = hood_river\n",
    "\n",
    "location = Location(\n",
    "    latitude,\n",
    "    longitude,\n",
    "    name=name,\n",
    "    altitude=altitude,\n",
    "    tz=timezone,\n",
    "    )\n",
    "\n",
    "times = pd.date_range('2019-01-01 00:00', '2019-01-01 23:59', freq='1s', tz=location.tz)\n",
    "weather = location.get_clearsky(times)"
   ]
  },
  {
   "cell_type": "markdown",
   "metadata": {},
   "source": [
    "## Sunrise Data"
   ]
  },
  {
   "cell_type": "code",
   "execution_count": 25,
   "metadata": {},
   "outputs": [
    {
     "ename": "ImportError",
     "evalue": "cannot import name 'equation_of_time_analemma' from 'pvlib.solarposition' (/home/vscode/.local/lib/python3.12/site-packages/pvlib/solarposition.py)",
     "output_type": "error",
     "traceback": [
      "\u001b[0;31m---------------------------------------------------------------------------\u001b[0m",
      "\u001b[0;31mImportError\u001b[0m                               Traceback (most recent call last)",
      "Cell \u001b[0;32mIn[25], line 1\u001b[0m\n\u001b[0;32m----> 1\u001b[0m \u001b[38;5;28;01mfrom\u001b[39;00m \u001b[38;5;21;01mpvlib\u001b[39;00m\u001b[38;5;21;01m.\u001b[39;00m\u001b[38;5;21;01msolarposition\u001b[39;00m \u001b[38;5;28;01mimport\u001b[39;00m sun_rise_set_transit_geometric, equation_of_time_analemma, declination_cooper69\n\u001b[1;32m      3\u001b[0m \u001b[38;5;66;03m# Calculate the day of the year\u001b[39;00m\n\u001b[1;32m      4\u001b[0m dayofyear \u001b[38;5;241m=\u001b[39m times\u001b[38;5;241m.\u001b[39mdayofyear\n",
      "\u001b[0;31mImportError\u001b[0m: cannot import name 'equation_of_time_analemma' from 'pvlib.solarposition' (/home/vscode/.local/lib/python3.12/site-packages/pvlib/solarposition.py)"
     ]
    }
   ],
   "source": [
    "from pvlib.solarposition import sun_rise_set_transit_geometric, equation_of_time_analemma, declination_cooper69\n",
    "\n",
    "# Calculate the day of the year\n",
    "dayofyear = times.dayofyear\n",
    "\n",
    "# Calculate declination and equation of time\n",
    "declination = declination_cooper69(dayofyear)\n",
    "equation_of_time = equation_of_time_analemma(dayofyear)\n",
    "\n",
    "# Get sunrise, sunset, and transit times\n",
    "sunrise, sunset, transit = sun_rise_set_transit_geometric(times, location.latitude, declination, equation_of_time)\n",
    "\n",
    "# Print sunrise times\n",
    "print(sunrise)"
   ]
  },
  {
   "cell_type": "markdown",
   "metadata": {},
   "source": [
    "# Setup System"
   ]
  },
  {
   "cell_type": "markdown",
   "metadata": {},
   "source": [
    "## Module Parameters"
   ]
  },
  {
   "cell_type": "code",
   "execution_count": 6,
   "metadata": {},
   "outputs": [],
   "source": [
    "# Get the module parameters from the CEC database\n",
    "MODULE_24 = pvlib.pvsystem.retrieve_sam('CECMod')['JA_Solar_JAM5_L__72_200_SI']\n",
    "\n",
    "# Copy the paramters we will need to a new dictionary\n",
    "rich_solar_24V_params = {\n",
    "    'Name' : 'Rich Solar 24V',\n",
    "    'Technology': 'monoSI',\n",
    "    'N_s' : MODULE_24['N_s'],\n",
    "    'I_sc_ref' : MODULE_24['I_sc_ref'],\n",
    "    'V_oc_ref' : MODULE_24['V_oc_ref'],\n",
    "    'I_mp_ref' : MODULE_24['I_mp_ref'],\n",
    "    'V_mp_ref' : MODULE_24['V_mp_ref'],\n",
    "    'alpha_sc' : MODULE_24['alpha_sc'],\n",
    "    'beta_oc' : MODULE_24['beta_oc'],\n",
    "    'gamma_r' : MODULE_24['gamma_r'],\n",
    "    'a_ref' : MODULE_24['a_ref'],\n",
    "    'I_L_ref' : MODULE_24['I_L_ref'],\n",
    "    'I_o_ref' : MODULE_24['I_o_ref'],\n",
    "    'R_s' : MODULE_24['R_s'],\n",
    "    'R_sh_ref' : MODULE_24['R_sh_ref'],\n",
    "    'Adjust' : MODULE_24['Adjust']\n",
    "}"
   ]
  },
  {
   "cell_type": "markdown",
   "metadata": {},
   "source": [
    "## Temperature Parameters"
   ]
  },
  {
   "cell_type": "code",
   "execution_count": 7,
   "metadata": {},
   "outputs": [],
   "source": [
    "temperature_model_parameters = pvlib.temperature.TEMPERATURE_MODEL_PARAMETERS['sapm']['open_rack_glass_glass']"
   ]
  },
  {
   "cell_type": "markdown",
   "metadata": {},
   "source": [
    "\n",
    "## Inverter Parameters\n",
    "`v_batt`, `v_start`, `v_continue`, `r_batt_wire`, and `r_pv_wire`, are passed in a dict-like object via the PVSystem kwarg `inverter_parameters`.  "
   ]
  },
  {
   "cell_type": "code",
   "execution_count": 8,
   "metadata": {},
   "outputs": [],
   "source": [
    "# Assume 20 ft of 10AGW wire on PV Side\n",
    "r_batt_wire = getWireResistance('10AWG', 20)\n",
    "# Assume 10 ft 10AGW wire on Battery Side\n",
    "r_pv_wire = getWireResistance('10AWG', 10)\n",
    "\n",
    "mppt_parameters = {\n",
    "    'v_batt': 14.2,\n",
    "    'v_start': 5.0,\n",
    "    'v_continue': 1.0,\n",
    "    'r_batt_wire': r_batt_wire,\n",
    "    'r_pv_wire': r_pv_wire,\n",
    "    'mppt_eff': 0.99\n",
    "}"
   ]
  },
  {
   "cell_type": "code",
   "execution_count": 18,
   "metadata": {},
   "outputs": [
    {
     "ename": "TypeError",
     "evalue": "sun_rise_set_transit_geometric() missing 2 required positional arguments: 'declination' and 'equation_of_time'",
     "output_type": "error",
     "traceback": [
      "\u001b[0;31m---------------------------------------------------------------------------\u001b[0m",
      "\u001b[0;31mTypeError\u001b[0m                                 Traceback (most recent call last)",
      "Cell \u001b[0;32mIn[18], line 29\u001b[0m\n\u001b[1;32m     25\u001b[0m mc\u001b[38;5;241m.\u001b[39mrun_model(weather)\n\u001b[1;32m     27\u001b[0m \u001b[38;5;66;03m# Get sunrise, sunset, and transit times\u001b[39;00m\n\u001b[1;32m     28\u001b[0m \u001b[38;5;66;03m# Get sunrise, sunset, and transit times\u001b[39;00m\n\u001b[0;32m---> 29\u001b[0m sunrise, sunset, transit \u001b[38;5;241m=\u001b[39m \u001b[43mlocation\u001b[49m\u001b[38;5;241;43m.\u001b[39;49m\u001b[43mget_sun_rise_set_transit\u001b[49m\u001b[43m(\u001b[49m\u001b[43mtimes\u001b[49m\u001b[43m,\u001b[49m\u001b[43m \u001b[49m\u001b[43mmethod\u001b[49m\u001b[38;5;241;43m=\u001b[39;49m\u001b[38;5;124;43m'\u001b[39;49m\u001b[38;5;124;43mgeometric\u001b[39;49m\u001b[38;5;124;43m'\u001b[39;49m\u001b[43m)\u001b[49m\n\u001b[1;32m     31\u001b[0m \u001b[38;5;66;03m# Print sunrise times\u001b[39;00m\n\u001b[1;32m     32\u001b[0m \u001b[38;5;28mprint\u001b[39m(sunrise)\n",
      "File \u001b[0;32m~/.local/lib/python3.12/site-packages/pvlib/location.py:351\u001b[0m, in \u001b[0;36mLocation.get_sun_rise_set_transit\u001b[0;34m(self, times, method, **kwargs)\u001b[0m\n\u001b[1;32m    348\u001b[0m     result \u001b[38;5;241m=\u001b[39m solarposition\u001b[38;5;241m.\u001b[39msun_rise_set_transit_spa(\n\u001b[1;32m    349\u001b[0m         times, \u001b[38;5;28mself\u001b[39m\u001b[38;5;241m.\u001b[39mlatitude, \u001b[38;5;28mself\u001b[39m\u001b[38;5;241m.\u001b[39mlongitude, \u001b[38;5;241m*\u001b[39m\u001b[38;5;241m*\u001b[39mkwargs)\n\u001b[1;32m    350\u001b[0m \u001b[38;5;28;01melif\u001b[39;00m method \u001b[38;5;241m==\u001b[39m \u001b[38;5;124m'\u001b[39m\u001b[38;5;124mgeometric\u001b[39m\u001b[38;5;124m'\u001b[39m:\n\u001b[0;32m--> 351\u001b[0m     sr, ss, tr \u001b[38;5;241m=\u001b[39m \u001b[43msolarposition\u001b[49m\u001b[38;5;241;43m.\u001b[39;49m\u001b[43msun_rise_set_transit_geometric\u001b[49m\u001b[43m(\u001b[49m\n\u001b[1;32m    352\u001b[0m \u001b[43m        \u001b[49m\u001b[43mtimes\u001b[49m\u001b[43m,\u001b[49m\u001b[43m \u001b[49m\u001b[38;5;28;43mself\u001b[39;49m\u001b[38;5;241;43m.\u001b[39;49m\u001b[43mlatitude\u001b[49m\u001b[43m,\u001b[49m\u001b[43m \u001b[49m\u001b[38;5;28;43mself\u001b[39;49m\u001b[38;5;241;43m.\u001b[39;49m\u001b[43mlongitude\u001b[49m\u001b[43m,\u001b[49m\u001b[43m \u001b[49m\u001b[38;5;241;43m*\u001b[39;49m\u001b[38;5;241;43m*\u001b[39;49m\u001b[43mkwargs\u001b[49m\u001b[43m)\u001b[49m\n\u001b[1;32m    353\u001b[0m     result \u001b[38;5;241m=\u001b[39m pd\u001b[38;5;241m.\u001b[39mDataFrame(index\u001b[38;5;241m=\u001b[39mtimes,\n\u001b[1;32m    354\u001b[0m                           data\u001b[38;5;241m=\u001b[39m{\u001b[38;5;124m'\u001b[39m\u001b[38;5;124msunrise\u001b[39m\u001b[38;5;124m'\u001b[39m: sr,\n\u001b[1;32m    355\u001b[0m                                 \u001b[38;5;124m'\u001b[39m\u001b[38;5;124msunset\u001b[39m\u001b[38;5;124m'\u001b[39m: ss,\n\u001b[1;32m    356\u001b[0m                                 \u001b[38;5;124m'\u001b[39m\u001b[38;5;124mtransit\u001b[39m\u001b[38;5;124m'\u001b[39m: tr})\n\u001b[1;32m    357\u001b[0m \u001b[38;5;28;01melse\u001b[39;00m:\n",
      "\u001b[0;31mTypeError\u001b[0m: sun_rise_set_transit_geometric() missing 2 required positional arguments: 'declination' and 'equation_of_time'"
     ]
    }
   ],
   "source": [
    "\n",
    "mount = FixedMount(\n",
    "    surface_tilt=0,\n",
    "    surface_azimuth=180,\n",
    "    )\n",
    "array = Array(\n",
    "    mount=mount,\n",
    "    module_parameters=rich_solar_24V_params,\n",
    "    temperature_model_parameters=temperature_model_parameters,\n",
    "    strings=1,\n",
    "    modules_per_string=1,\n",
    "    )\n",
    "\n",
    "system = PVSystem(arrays=[array], \n",
    "                  inverter_parameters=mppt_parameters)\n",
    "\n",
    "mc = ModelChain(system, \n",
    "                location, \n",
    "                aoi_model=\"physical\", \n",
    "                spectral_model=\"no_loss\", \n",
    "                dc_model=\"cec\",\n",
    "                ac_model=mppt,\n",
    "                dc_ohmic_model=pv_wire_loss\n",
    "                )\n",
    "\n",
    "mc.run_model(weather)\n",
    "\n",
    "# Get sunrise, sunset, and transit times\n",
    "# Get sunrise, sunset, and transit times\n",
    "sunrise, sunset, transit = location.get_sun_rise_set_transit(times, method='geometric')\n",
    "\n",
    "# Print sunrise times\n",
    "print(sunrise)\n",
    "# Print sunrise times\n",
    "print(sunrise)\n",
    "    \n",
    "#plot\n",
    "plt.figure()\n",
    "mc.results.dc['p_mp'].plot(title='DC Power (W)')\n",
    "mc.results.ac.plot(label='MPPT Output (W)')\n",
    "plt.legend()\n"
   ]
  },
  {
   "cell_type": "markdown",
   "metadata": {},
   "source": [
    "Now lets figure out what results.dc really is"
   ]
  },
  {
   "cell_type": "code",
   "execution_count": 10,
   "metadata": {},
   "outputs": [
    {
     "name": "stdout",
     "output_type": "stream",
     "text": [
      "results.dc=\n",
      "<class 'pandas.core.frame.DataFrame'>\n",
      "                                   i_sc  v_oc          i_mp  v_mp  p_mp  \\\n",
      "2019-01-01 00:00:00-08:00  2.584939e-26   0.0  2.584939e-26   0.0   0.0   \n",
      "2019-01-01 00:00:01-08:00  2.584939e-26   0.0  2.584939e-26   0.0   0.0   \n",
      "2019-01-01 00:00:02-08:00  2.584939e-26   0.0  2.584939e-26   0.0   0.0   \n",
      "2019-01-01 00:00:03-08:00  2.584939e-26   0.0  2.584939e-26   0.0   0.0   \n",
      "2019-01-01 00:00:04-08:00  2.584939e-26   0.0  2.584939e-26   0.0   0.0   \n",
      "...                                 ...   ...           ...   ...   ...   \n",
      "2019-01-01 23:58:56-08:00  2.584939e-26   0.0  2.584939e-26   0.0   0.0   \n",
      "2019-01-01 23:58:57-08:00  2.584939e-26   0.0  2.584939e-26   0.0   0.0   \n",
      "2019-01-01 23:58:58-08:00  2.584939e-26   0.0  2.584939e-26   0.0   0.0   \n",
      "2019-01-01 23:58:59-08:00  2.584939e-26   0.0  2.584939e-26   0.0   0.0   \n",
      "2019-01-01 23:59:00-08:00  2.584939e-26   0.0  2.584939e-26   0.0   0.0   \n",
      "\n",
      "                                    i_x          i_xx  \n",
      "2019-01-01 00:00:00-08:00  2.584939e-26  2.584939e-26  \n",
      "2019-01-01 00:00:01-08:00  2.584939e-26  2.584939e-26  \n",
      "2019-01-01 00:00:02-08:00  2.584939e-26  2.584939e-26  \n",
      "2019-01-01 00:00:03-08:00  2.584939e-26  2.584939e-26  \n",
      "2019-01-01 00:00:04-08:00  2.584939e-26  2.584939e-26  \n",
      "...                                 ...           ...  \n",
      "2019-01-01 23:58:56-08:00  2.584939e-26  2.584939e-26  \n",
      "2019-01-01 23:58:57-08:00  2.584939e-26  2.584939e-26  \n",
      "2019-01-01 23:58:58-08:00  2.584939e-26  2.584939e-26  \n",
      "2019-01-01 23:58:59-08:00  2.584939e-26  2.584939e-26  \n",
      "2019-01-01 23:59:00-08:00  2.584939e-26  2.584939e-26  \n",
      "\n",
      "[86341 rows x 7 columns]\n",
      "results.dc['p_mp']=\n",
      "<class 'pandas.core.series.Series'>\n",
      "2019-01-01 00:00:00-08:00    0.0\n",
      "2019-01-01 00:00:01-08:00    0.0\n",
      "2019-01-01 00:00:02-08:00    0.0\n",
      "2019-01-01 00:00:03-08:00    0.0\n",
      "2019-01-01 00:00:04-08:00    0.0\n",
      "                            ... \n",
      "2019-01-01 23:58:56-08:00    0.0\n",
      "2019-01-01 23:58:57-08:00    0.0\n",
      "2019-01-01 23:58:58-08:00    0.0\n",
      "2019-01-01 23:58:59-08:00    0.0\n",
      "2019-01-01 23:59:00-08:00    0.0\n",
      "Freq: s, Name: p_mp, Length: 86341, dtype: float64\n",
      "results.ac=\n",
      "<class 'pandas.core.series.Series'>\n",
      "2019-01-01 00:00:00-08:00    0.0\n",
      "2019-01-01 00:00:01-08:00    0.0\n",
      "2019-01-01 00:00:02-08:00    0.0\n",
      "2019-01-01 00:00:03-08:00    0.0\n",
      "2019-01-01 00:00:04-08:00    0.0\n",
      "                            ... \n",
      "2019-01-01 23:58:56-08:00    0.0\n",
      "2019-01-01 23:58:57-08:00    0.0\n",
      "2019-01-01 23:58:58-08:00    0.0\n",
      "2019-01-01 23:58:59-08:00    0.0\n",
      "2019-01-01 23:59:00-08:00    0.0\n",
      "Freq: s, Name: p_ac, Length: 86341, dtype: float64\n",
      "results.dc_ohmic_losses=\n",
      "<class 'pandas.core.frame.DataFrame'>\n",
      "                           p_pv_wire_loss  v_pv_wire_drop\n",
      "2019-01-01 00:00:00-08:00             0.0             0.0\n",
      "2019-01-01 00:00:01-08:00             0.0             0.0\n",
      "2019-01-01 00:00:02-08:00             0.0             0.0\n",
      "2019-01-01 00:00:03-08:00             0.0             0.0\n",
      "2019-01-01 00:00:04-08:00             0.0             0.0\n",
      "...                                   ...             ...\n",
      "2019-01-01 23:58:56-08:00             0.0             0.0\n",
      "2019-01-01 23:58:57-08:00             0.0             0.0\n",
      "2019-01-01 23:58:58-08:00             0.0             0.0\n",
      "2019-01-01 23:58:59-08:00             0.0             0.0\n",
      "2019-01-01 23:59:00-08:00             0.0             0.0\n",
      "\n",
      "[86341 rows x 2 columns]\n",
      "ohmic vs ac=\n",
      "                           p_pv_wire_loss  v_pv_wire_drop  p_ac\n",
      "2019-01-01 00:00:00-08:00             0.0             0.0   0.0\n",
      "2019-01-01 00:00:01-08:00             0.0             0.0   0.0\n",
      "2019-01-01 00:00:02-08:00             0.0             0.0   0.0\n",
      "2019-01-01 00:00:03-08:00             0.0             0.0   0.0\n",
      "2019-01-01 00:00:04-08:00             0.0             0.0   0.0\n",
      "...                                   ...             ...   ...\n",
      "2019-01-01 23:58:56-08:00             0.0             0.0   0.0\n",
      "2019-01-01 23:58:57-08:00             0.0             0.0   0.0\n",
      "2019-01-01 23:58:58-08:00             0.0             0.0   0.0\n",
      "2019-01-01 23:58:59-08:00             0.0             0.0   0.0\n",
      "2019-01-01 23:59:00-08:00             0.0             0.0   0.0\n",
      "\n",
      "[86341 rows x 3 columns]\n",
      "                           p_pv_wire_loss  v_pv_wire_drop  p_ac\n",
      "2019-01-01 00:00:00-08:00             0.0             0.0   0.0\n",
      "2019-01-01 00:00:01-08:00             0.0             0.0   0.0\n",
      "2019-01-01 00:00:02-08:00             0.0             0.0   0.0\n",
      "2019-01-01 00:00:03-08:00             0.0             0.0   0.0\n",
      "2019-01-01 00:00:04-08:00             0.0             0.0   0.0\n",
      "2019-01-01 00:00:05-08:00             0.0             0.0   0.0\n",
      "2019-01-01 00:00:06-08:00             0.0             0.0   0.0\n",
      "2019-01-01 00:00:07-08:00             0.0             0.0   0.0\n",
      "2019-01-01 00:00:08-08:00             0.0             0.0   0.0\n",
      "2019-01-01 00:00:09-08:00             0.0             0.0   0.0\n",
      "2019-01-01 00:00:10-08:00             0.0             0.0   0.0\n",
      "2019-01-01 00:00:11-08:00             0.0             0.0   0.0\n",
      "2019-01-01 00:00:12-08:00             0.0             0.0   0.0\n",
      "2019-01-01 00:00:13-08:00             0.0             0.0   0.0\n",
      "2019-01-01 00:00:14-08:00             0.0             0.0   0.0\n",
      "2019-01-01 00:00:15-08:00             0.0             0.0   0.0\n",
      "2019-01-01 00:00:16-08:00             0.0             0.0   0.0\n",
      "2019-01-01 00:00:17-08:00             0.0             0.0   0.0\n",
      "2019-01-01 00:00:18-08:00             0.0             0.0   0.0\n",
      "2019-01-01 00:00:19-08:00             0.0             0.0   0.0\n",
      "2019-01-01 00:00:20-08:00             0.0             0.0   0.0\n",
      "2019-01-01 00:00:21-08:00             0.0             0.0   0.0\n",
      "2019-01-01 00:00:22-08:00             0.0             0.0   0.0\n",
      "2019-01-01 00:00:23-08:00             0.0             0.0   0.0\n"
     ]
    },
    {
     "data": {
      "image/png": "[encoded data removed]",
      "text/plain": [
       "<Figure size 640x480 with 1 Axes>"
      ]
     },
     "metadata": {},
     "output_type": "display_data"
    }
   ],
   "source": [
    "print('results.dc=')\n",
    "print(type(mc.results.dc))\n",
    "print(mc.results.dc)\n",
    "\n",
    "print(\"results.dc['p_mp']=\")\n",
    "print(type(mc.results.dc['p_mp']))\n",
    "print(mc.results.dc['p_mp'])    \n",
    "\n",
    "print('results.ac=')\n",
    "print(type(mc.results.ac))\n",
    "print(mc.results.ac)\n",
    "\n",
    "print('results.dc_ohmic_losses=')\n",
    "print(type(mc.results.dc_ohmic_losses))\n",
    "print(mc.results.dc_ohmic_losses)\n",
    "\n",
    "print('ohmic vs ac=')\n",
    "ohmic_vs_ac = pd.concat([mc.results.dc_ohmic_losses['p_pv_wire_loss'],\n",
    "                         mc.results.dc_ohmic_losses['v_pv_wire_drop'],\n",
    "                         mc.results.ac], axis=1)\n",
    "print(ohmic_vs_ac)\n",
    "#plot the first 24 hour period of ohmic vs ac\n",
    "plt.figure()\n",
    "ohmic_vs_ac['p_ac'].iloc[:24].div(ohmic_vs_ac['p_ac'].iloc[:24].max()).plot(title='Ohmic vs AC (W)', label='AC')\n",
    "ohmic_vs_ac['p_pv_wire_loss'].iloc[:24].div(ohmic_vs_ac['p_pv_wire_loss'].iloc[:24].max()).plot(label='Ohmic')\n",
    "plt.legend()\n",
    "\n",
    "print(ohmic_vs_ac.iloc[:24])"
   ]
  },
  {
   "cell_type": "code",
   "execution_count": 11,
   "metadata": {},
   "outputs": [
    {
     "name": "stdout",
     "output_type": "stream",
     "text": [
      "points= ([1, 2, 3, 4, 5], [1, 2, 3, 4, 5])\n"
     ]
    }
   ],
   "source": [
    "a = [1, 2, 3, 4, 5]\n",
    "b = [1, 2, 3, 4, 5]\n",
    "points = a, b\n",
    "\n",
    "print('points=', points)"
   ]
  },
  {
   "cell_type": "code",
   "execution_count": 12,
   "metadata": {},
   "outputs": [
    {
     "name": "stdout",
     "output_type": "stream",
     "text": [
      "mppt_eff= 1.0\n"
     ]
    }
   ],
   "source": [
    "inverter_params = {}\n",
    "    # Defaulting parameters if not explicitly provided\n",
    "mppt_eff = inverter_params.get('mppt_eff', 1.0)\n",
    "r_batt_wire = inverter_params.get('r_batt_wire', 0)\n",
    "\n",
    "print('mppt_eff=', mppt_eff)"
   ]
  },
  {
   "cell_type": "code",
   "execution_count": 13,
   "metadata": {},
   "outputs": [
    {
     "name": "stdout",
     "output_type": "stream",
     "text": [
      "calculate_i_out(200)= 14.070564732964641\n"
     ]
    }
   ],
   "source": [
    "def calculate_i_out(p_mppt_out):\n",
    "    v_batt = 14.2 # volts\n",
    "    r_batt_wire = 0.001 # ohms\n",
    "    if r_batt_wire == 0:\n",
    "        return p_mppt_out/v_batt\n",
    "    else:\n",
    "        return (-1*v_batt + np.sqrt(v_batt**2 + 4*p_mppt_out*r_batt_wire))/(2*r_batt_wire)\n",
    "    \n",
    "print('calculate_i_out(200)=', calculate_i_out(200))"
   ]
  }
 ],
 "metadata": {
  "kernelspec": {
   "display_name": "Python 3",
   "language": "python",
   "name": "python3"
  },
  "language_info": {
   "codemirror_mode": {
    "name": "ipython",
    "version": 3
   },
   "file_extension": ".py",
   "mimetype": "text/x-python",
   "name": "python",
   "nbconvert_exporter": "python",
   "pygments_lexer": "ipython3",
   "version": "3.12.1"
  }
 },
 "nbformat": 4,
 "nbformat_minor": 2
}
